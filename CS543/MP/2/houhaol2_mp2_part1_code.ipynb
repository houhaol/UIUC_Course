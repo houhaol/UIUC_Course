{
 "cells": [
  {
   "cell_type": "code",
   "execution_count": null,
   "metadata": {},
   "outputs": [],
   "source": [
    "import numpy as np\n",
    "import cv2\n",
    "import matplotlib.image as mpimg\n",
    "import matplotlib.pyplot as plt\n",
    "import skimage\n",
    "from skimage import transform\n",
    "from PIL import Image\n",
    "import scipy\n",
    "# from scipy import misc\n",
    "import scipy.ndimage\n",
    "from scipy.signal import medfilt2d\n",
    "%matplotlib inline"
   ]
  },
  {
   "cell_type": "code",
   "execution_count": null,
   "metadata": {},
   "outputs": [],
   "source": [
    "def read_image(IMG_NAME):\n",
    "    gray_img = Image.open('img/' + IMG_NAME).convert('L')\n",
    "    gray_img = np.array(gray_img, dtype=float)\n",
    "    return gray_img"
   ]
  },
  {
   "cell_type": "code",
   "execution_count": null,
   "metadata": {},
   "outputs": [],
   "source": [
    "def hybrid_image(img1,img2,low_threshold,high_threshold):\n",
    "    temp_img1 = scipy.ndimage.gaussian_filter(img1, sigma=low_threshold) #Low\n",
    "    temp_img2 = img2 - scipy.ndimage.gaussian_filter(img2, sigma=high_threshold) #High\n",
    "    \n",
    "    return (temp_img1+temp_img2), temp_img1, 255*temp_img2"
   ]
  },
  {
   "cell_type": "markdown",
   "metadata": {},
   "source": [
    "Provided image"
   ]
  },
  {
   "cell_type": "code",
   "execution_count": null,
   "metadata": {},
   "outputs": [],
   "source": [
    "img1 = read_image('c2.jpg')\n",
    "img2 = read_image('c1.jpg')"
   ]
  },
  {
   "cell_type": "code",
   "execution_count": null,
   "metadata": {},
   "outputs": [],
   "source": [
    "# Parameters selection\n",
    "low_threshold = 2.5\n",
    "high_threshold = 6"
   ]
  },
  {
   "cell_type": "code",
   "execution_count": null,
   "metadata": {},
   "outputs": [],
   "source": [
    "hybrid_img,filt_img1, filt_img2 = hybrid_image(img1, img2, low_threshold, high_threshold)\n",
    "plt.imshow(hybrid_img,cmap='gray')\n",
    "plt.show()"
   ]
  },
  {
   "cell_type": "code",
   "execution_count": null,
   "metadata": {},
   "outputs": [],
   "source": [
    "plt.imshow(filt_img1,cmap='gray')\n",
    "plt.show()"
   ]
  },
  {
   "cell_type": "code",
   "execution_count": null,
   "metadata": {},
   "outputs": [],
   "source": [
    "plt.imshow(filt_img2,cmap='gray')\n",
    "plt.show()"
   ]
  },
  {
   "cell_type": "code",
   "execution_count": null,
   "metadata": {},
   "outputs": [],
   "source": [
    "# save\n",
    "cv2.imwrite('img/hybrid_img_1.png',hybrid_img)\n",
    "cv2.imwrite('img/filt_img_1_1.png',filt_img1)\n",
    "cv2.imwrite('img/filt_img_1_2.png',filt_img2)"
   ]
  },
  {
   "cell_type": "markdown",
   "metadata": {},
   "source": [
    "One example"
   ]
  },
  {
   "cell_type": "code",
   "execution_count": null,
   "metadata": {},
   "outputs": [],
   "source": [
    "img1 = read_image('a2.jpg') # Low \n",
    "img2 = read_image('a1.jpg') # High "
   ]
  },
  {
   "cell_type": "code",
   "execution_count": null,
   "metadata": {},
   "outputs": [],
   "source": [
    "# Parameters selection\n",
    "low_threshold = 2\n",
    "high_threshold = 20"
   ]
  },
  {
   "cell_type": "code",
   "execution_count": null,
   "metadata": {},
   "outputs": [],
   "source": [
    "hybrid_img,filt_img1, filt_img2 = hybrid_image(img1, img2, low_threshold, high_threshold)\n",
    "plt.imshow(hybrid_img,cmap='gray')\n",
    "plt.show()"
   ]
  },
  {
   "cell_type": "code",
   "execution_count": null,
   "metadata": {},
   "outputs": [],
   "source": [
    "plt.imshow(filt_img1,cmap='gray')\n",
    "plt.show()"
   ]
  },
  {
   "cell_type": "code",
   "execution_count": null,
   "metadata": {},
   "outputs": [],
   "source": [
    "plt.imshow(filt_img2,cmap='gray')\n",
    "plt.show()"
   ]
  },
  {
   "cell_type": "code",
   "execution_count": null,
   "metadata": {},
   "outputs": [],
   "source": [
    "# Save\n",
    "cv2.imwrite('img/hybrid_img_2.png',hybrid_img)\n",
    "cv2.imwrite('img/filt_img_2_1.png',filt_img1)\n",
    "cv2.imwrite('img/filt_img_2_2.png',filt_img2)"
   ]
  },
  {
   "cell_type": "markdown",
   "metadata": {},
   "source": [
    "Second Example"
   ]
  },
  {
   "cell_type": "code",
   "execution_count": null,
   "metadata": {},
   "outputs": [],
   "source": [
    "img1 = read_image('b1.jpg') # Low \n",
    "img2 = read_image('b2.jpg') # High "
   ]
  },
  {
   "cell_type": "code",
   "execution_count": null,
   "metadata": {},
   "outputs": [],
   "source": [
    "# Parameters selection\n",
    "low_threshold = 0.5\n",
    "high_threshold = 1.5\n"
   ]
  },
  {
   "cell_type": "code",
   "execution_count": null,
   "metadata": {},
   "outputs": [],
   "source": [
    "hybrid_img,filt_img1, filt_img2 = hybrid_image(img1, img2, low_threshold, high_threshold)\n",
    "plt.imshow(hybrid_img,cmap='gray')\n",
    "plt.show()"
   ]
  },
  {
   "cell_type": "code",
   "execution_count": null,
   "metadata": {},
   "outputs": [],
   "source": [
    "plt.imshow(filt_img1,cmap='gray')\n",
    "plt.show()"
   ]
  },
  {
   "cell_type": "code",
   "execution_count": null,
   "metadata": {},
   "outputs": [],
   "source": [
    "plt.imshow(filt_img2,cmap='gray')\n",
    "plt.show()"
   ]
  },
  {
   "cell_type": "code",
   "execution_count": null,
   "metadata": {},
   "outputs": [],
   "source": [
    "# Save\n",
    "\n",
    "cv2.imwrite('img/hybrid_img_3.png',hybrid_img)\n",
    "cv2.imwrite('img/filt_img_3_1.png',filt_img1)\n",
    "cv2.imwrite('img/filt_img_3_2.png',filt_img2)"
   ]
  },
  {
   "cell_type": "markdown",
   "metadata": {},
   "source": [
    "Bonus example for failure cases."
   ]
  },
  {
   "cell_type": "code",
   "execution_count": null,
   "metadata": {},
   "outputs": [],
   "source": [
    "img1 = read_image('d1.jpg') # Low \n",
    "img2 = read_image('d2.jpg') # High \n",
    "# Parameters selection\n",
    "low_threshold = 1\n",
    "high_threshold = 2\n",
    "hybrid_img,filt_img1, filt_img2 = hybrid_image(img1, img2, low_threshold, high_threshold)\n",
    "plt.imshow(hybrid_img,cmap='gray')\n",
    "plt.show()"
   ]
  },
  {
   "cell_type": "code",
   "execution_count": null,
   "metadata": {},
   "outputs": [],
   "source": [
    "plt.imshow(filt_img1,cmap='gray')\n",
    "plt.show()"
   ]
  },
  {
   "cell_type": "code",
   "execution_count": null,
   "metadata": {},
   "outputs": [],
   "source": [
    "plt.imshow(filt_img2,cmap='gray')\n",
    "plt.show()"
   ]
  },
  {
   "cell_type": "code",
   "execution_count": null,
   "metadata": {},
   "outputs": [],
   "source": [
    "# Save\n",
    "\n",
    "cv2.imwrite('img/hybrid_img_4.png',hybrid_img)\n",
    "cv2.imwrite('img/filt_img_4_1.png',filt_img1)\n",
    "cv2.imwrite('img/filt_img_4_2.png',filt_img2)"
   ]
  },
  {
   "cell_type": "code",
   "execution_count": null,
   "metadata": {},
   "outputs": [],
   "source": [
    "img1 = read_image('e1.jpg') # Low \n",
    "img2 = read_image('e2.jpg') # High \n",
    "# Parameters selection\n",
    "low_threshold = 5\n",
    "high_threshold = 8\n",
    "hybrid_img,filt_img1, filt_img2 = hybrid_image(img1, img2, low_threshold, high_threshold)\n",
    "plt.imshow(hybrid_img,cmap='gray')\n",
    "plt.show()"
   ]
  },
  {
   "cell_type": "code",
   "execution_count": null,
   "metadata": {},
   "outputs": [],
   "source": [
    "plt.imshow(filt_img1,cmap='gray')\n",
    "plt.show()"
   ]
  },
  {
   "cell_type": "code",
   "execution_count": null,
   "metadata": {},
   "outputs": [],
   "source": [
    "plt.imshow(filt_img2,cmap='gray')\n",
    "plt.show()"
   ]
  },
  {
   "cell_type": "code",
   "execution_count": null,
   "metadata": {},
   "outputs": [],
   "source": [
    "# Save\n",
    "\n",
    "cv2.imwrite('img/hybrid_img_5.png',hybrid_img)\n",
    "cv2.imwrite('img/filt_img_5_1.png',filt_img1)\n",
    "cv2.imwrite('img/filt_img_5_2.png',filt_img2)"
   ]
  },
  {
   "cell_type": "code",
   "execution_count": null,
   "metadata": {},
   "outputs": [],
   "source": []
  }
 ],
 "metadata": {
  "kernelspec": {
   "display_name": "Python 3",
   "language": "python",
   "name": "python3"
  },
  "language_info": {
   "codemirror_mode": {
    "name": "ipython",
    "version": 3
   },
   "file_extension": ".py",
   "mimetype": "text/x-python",
   "name": "python",
   "nbconvert_exporter": "python",
   "pygments_lexer": "ipython3",
   "version": "3.6.5"
  }
 },
 "nbformat": 4,
 "nbformat_minor": 2
}
